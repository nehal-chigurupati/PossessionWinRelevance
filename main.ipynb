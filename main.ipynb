{
 "cells": [
  {
   "cell_type": "code",
   "execution_count": null,
   "id": "bbcba1d5-af65-49ce-8ed9-b2c36609da39",
   "metadata": {},
   "outputs": [],
   "source": []
  },
  {
   "cell_type": "code",
   "execution_count": null,
   "id": "a15250f2-e27d-47d5-8d54-428b0ac3d998",
   "metadata": {},
   "outputs": [],
   "source": [
    "\"\"\"\n",
    "This is a short analysis to determine the correlation of two factors with a teams offensive rating:\n",
    "(1) per-possession efficiency\n",
    "(2) number of possessions (i.e. pace)\n",
    "\n",
    "\"\"\""
   ]
  },
  {
   "cell_type": "code",
   "execution_count": 1,
   "id": "a512433a-975e-41c8-ac36-910c89f6d4f6",
   "metadata": {},
   "outputs": [],
   "source": [
    "seasons = [\n",
    "    '2000-01',\n",
    "    '2001-02',\n",
    "    '2002-03',\n",
    "    '2003-04',\n",
    "    '2004-05',\n",
    "    '2005-06',\n",
    "    '2006-07',\n",
    "    '2007-08',\n",
    "    '2008-09',\n",
    "    '2009-10',\n",
    "    '2010-11',\n",
    "    '2011-12',\n",
    "    '2012-13',\n",
    "    '2013-14',\n",
    "    '2014-15',\n",
    "    '2015-16',\n",
    "    '2016-17',\n",
    "    '2017-18',\n",
    "    '2018-19',\n",
    "    '2019-20',\n",
    "    '2020-21',\n",
    "    '2021-22',\n",
    "    '2022-23'\n",
    "]"
   ]
  },
  {
   "cell_type": "code",
   "execution_count": null,
   "id": "7cf027d6-8fae-42c9-abe0-a285f49b4473",
   "metadata": {},
   "outputs": [],
   "source": []
  }
 ],
 "metadata": {
  "kernelspec": {
   "display_name": "Python 3 (ipykernel)",
   "language": "python",
   "name": "python3"
  },
  "language_info": {
   "codemirror_mode": {
    "name": "ipython",
    "version": 3
   },
   "file_extension": ".py",
   "mimetype": "text/x-python",
   "name": "python",
   "nbconvert_exporter": "python",
   "pygments_lexer": "ipython3",
   "version": "3.11.4"
  }
 },
 "nbformat": 4,
 "nbformat_minor": 5
}
