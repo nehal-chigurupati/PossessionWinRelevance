{
 "cells": [
  {
   "cell_type": "code",
   "execution_count": 1,
   "id": "bbcba1d5-af65-49ce-8ed9-b2c36609da39",
   "metadata": {},
   "outputs": [],
   "source": [
    "from nba_api.stats.endpoints import teamestimatedmetrics, leaguedashteamstats\n",
    "from nba_api.stats.static import teams\n",
    "import pandas as pd\n",
    "import pingouin as pg\n",
    "import statsmodels.api as sm\n",
    "from statsmodels.stats.outliers_influence import variance_inflation_factor"
   ]
  },
  {
   "cell_type": "code",
   "execution_count": 2,
   "id": "a15250f2-e27d-47d5-8d54-428b0ac3d998",
   "metadata": {},
   "outputs": [
    {
     "data": {
      "text/plain": [
       "'\\nThis is a short analysis to determine the correlation of two factors with a teams offensive rating:\\n(1) per-possession efficiency\\n(2) number of possessions (i.e. pace)\\n\\n'"
      ]
     },
     "execution_count": 2,
     "metadata": {},
     "output_type": "execute_result"
    }
   ],
   "source": [
    "\"\"\"\n",
    "This is a short analysis to determine the correlation of two factors with a teams offensive rating:\n",
    "(1) per-possession efficiency\n",
    "(2) number of possessions (i.e. pace)\n",
    "\n",
    "\"\"\""
   ]
  },
  {
   "cell_type": "code",
   "execution_count": 3,
   "id": "a512433a-975e-41c8-ac36-910c89f6d4f6",
   "metadata": {},
   "outputs": [],
   "source": [
    "seasons = [\n",
    "    '2000-01',\n",
    "    '2001-02',\n",
    "    '2002-03',\n",
    "    '2003-04',\n",
    "    '2004-05',\n",
    "    '2005-06',\n",
    "    '2006-07',\n",
    "    '2007-08',\n",
    "    '2008-09',\n",
    "    '2009-10',\n",
    "    '2010-11',\n",
    "    '2011-12',\n",
    "    '2012-13',\n",
    "    '2013-14',\n",
    "    '2014-15',\n",
    "    '2015-16',\n",
    "    '2016-17',\n",
    "    '2017-18',\n",
    "    '2018-19',\n",
    "    '2019-20',\n",
    "    '2020-21',\n",
    "    '2021-22',\n",
    "    '2022-23'\n",
    "]"
   ]
  },
  {
   "cell_type": "code",
   "execution_count": 4,
   "id": "7cf027d6-8fae-42c9-abe0-a285f49b4473",
   "metadata": {},
   "outputs": [],
   "source": [
    "#Get list of all teams\n",
    "all_teams = teams.get_teams()\n",
    "team_ids = {}\n",
    "for team in all_teams:\n",
    "    team_ids[team['id']] = team['abbreviation']"
   ]
  },
  {
   "cell_type": "code",
   "execution_count": 5,
   "id": "a3678ab1-5457-43aa-a5b2-daebc2af2058",
   "metadata": {},
   "outputs": [
    {
     "name": "stdout",
     "output_type": "stream",
     "text": [
      "Collecting 2000-01 data...\n",
      "Collecting 2001-02 data...\n",
      "Collecting 2002-03 data...\n",
      "Collecting 2003-04 data...\n",
      "Collecting 2004-05 data...\n",
      "Collecting 2005-06 data...\n",
      "Collecting 2006-07 data...\n",
      "Collecting 2007-08 data...\n",
      "Collecting 2008-09 data...\n",
      "Collecting 2009-10 data...\n",
      "Collecting 2010-11 data...\n",
      "Collecting 2011-12 data...\n",
      "Collecting 2012-13 data...\n",
      "Collecting 2013-14 data...\n",
      "Collecting 2014-15 data...\n",
      "Collecting 2015-16 data...\n",
      "Collecting 2016-17 data...\n",
      "Collecting 2017-18 data...\n",
      "Collecting 2018-19 data...\n",
      "Collecting 2019-20 data...\n",
      "Collecting 2020-21 data...\n",
      "Collecting 2021-22 data...\n",
      "Collecting 2022-23 data...\n"
     ]
    }
   ],
   "source": [
    "#Get offensive ratings, pace, points-per-possession\n",
    "offensive_ratings = []\n",
    "paces = []\n",
    "pts_per_poss = []\n",
    "wins = []\n",
    "for season in seasons:\n",
    "    print(\"Collecting \" + season + \" data...\")\n",
    "    results = teamestimatedmetrics.TeamEstimatedMetrics(league_id='00', season=season).get_data_frames()[0]\n",
    "    possession_results = leaguedashteamstats.LeagueDashTeamStats(season=season, per_mode_detailed=\"PerPossession\")\n",
    "    possession_results = possession_results.get_data_frames()[0]\n",
    "    for id in team_ids.keys():\n",
    "        offensive_ratings.append(results[results['TEAM_ID'] == id]['E_OFF_RATING'])\n",
    "        paces.append(results[results['TEAM_ID'] == id]['E_PACE'])\n",
    "        pts_per_poss.append(possession_results[possession_results['TEAM_ID'] == id]['PTS'])\n",
    "        wins.append(possession_results[possession_results['TEAM_ID'] == id]['W'])"
   ]
  },
  {
   "cell_type": "code",
   "execution_count": 6,
   "id": "001ef132-ce8c-4072-9392-23c35239caac",
   "metadata": {},
   "outputs": [],
   "source": [
    "for i in range(len(offensive_ratings)):\n",
    "    if offensive_ratings[i].empty:\n",
    "        offensive_ratings[i] = None\n",
    "    else:\n",
    "        offensive_ratings[i] = offensive_ratings[i].tolist()[0]\n",
    "\n",
    "for i in range(len(paces)):\n",
    "    if paces[i].empty:\n",
    "        paces[i] = None\n",
    "    else:\n",
    "        paces[i] = paces[i].tolist()[0]\n",
    "\n",
    "for i in range(len(pts_per_poss)):\n",
    "    if pts_per_poss[i].empty:\n",
    "        pts_per_poss[i] = None\n",
    "    else:\n",
    "        pts_per_poss[i] = pts_per_poss[i].tolist()[0]\n",
    "\n",
    "for i in range(len(wins)):\n",
    "    if wins[i].empty:\n",
    "        wins[i] = None\n",
    "    else:\n",
    "        wins[i] = wins[i].tolist()[0]"
   ]
  },
  {
   "cell_type": "code",
   "execution_count": 7,
   "id": "287c68d3-1523-483d-8912-353080e0a28b",
   "metadata": {},
   "outputs": [
    {
     "name": "stdout",
     "output_type": "stream",
     "text": [
      "Linear correlation between pace and offensive rating: \n",
      "0.525026458537889\n",
      "Linear correlation between PPP and offensive rating: \n",
      "0.9950877749831571\n"
     ]
    }
   ],
   "source": [
    "#Calculate Pearson coefficient for linear correlation\n",
    "df = pd.DataFrame({\"OFF_RATING\": offensive_ratings, \"PACE\": paces, \"PPP\": pts_per_poss, \"WINS\": wins}).dropna()\n",
    "print(\"Linear correlation between pace and offensive rating: \")\n",
    "print(df[\"OFF_RATING\"].corr(df[\"PACE\"]))\n",
    "print(\"Linear correlation between PPP and offensive rating: \")\n",
    "print(df[\"OFF_RATING\"].corr(df[\"PPP\"]))"
   ]
  },
  {
   "cell_type": "code",
   "execution_count": 8,
   "id": "0be8dcb1-40d9-46a8-b3de-46dfd43ae993",
   "metadata": {},
   "outputs": [
    {
     "name": "stdout",
     "output_type": "stream",
     "text": [
      "Spearman correlation between pace and offensive rating: \n",
      "0.5178427583893976\n",
      "Spearman correlation between PPP and offensive rating: \n",
      "0.994561509216428\n"
     ]
    }
   ],
   "source": [
    "#Let's also check the Spearman rank to deal with any nonlinear relationships\n",
    "print(\"Spearman correlation between pace and offensive rating: \")\n",
    "print(df[\"OFF_RATING\"].corr(df[\"PACE\"], method=\"spearman\"))\n",
    "print(\"Spearman correlation between PPP and offensive rating: \")\n",
    "print(df[\"OFF_RATING\"].corr(df[\"PPP\"], method=\"spearman\"))"
   ]
  },
  {
   "cell_type": "code",
   "execution_count": 9,
   "id": "97c79130-d4e8-4fe9-bb43-218e9696729f",
   "metadata": {},
   "outputs": [
    {
     "data": {
      "text/plain": [
       "\"\\nI think that a fast pace might be affecting offensive rating by pushing up per-possession efficiency (transition play, for instance),\\nso let's check the correlation and VIF between pace and PPP\\n\""
      ]
     },
     "execution_count": 9,
     "metadata": {},
     "output_type": "execute_result"
    }
   ],
   "source": [
    "\"\"\"\n",
    "I think that a fast pace might be affecting offensive rating by pushing up per-possession efficiency (transition play, for instance),\n",
    "so let's check the correlation and VIF between pace and PPP\n",
    "\"\"\""
   ]
  },
  {
   "cell_type": "code",
   "execution_count": 10,
   "id": "bd0f4853-1a37-4478-9aaf-17acc01a8291",
   "metadata": {},
   "outputs": [
    {
     "name": "stdout",
     "output_type": "stream",
     "text": [
      "Linear correlation between pace and PPP: \n",
      "0.5524181747835893\n",
      "Spearman correlation between pace and PPP: \n",
      "0.5436513179675263\n"
     ]
    }
   ],
   "source": [
    "print(\"Linear correlation between pace and PPP: \")\n",
    "print(df[\"PPP\"].corr(df[\"PACE\"]))\n",
    "print(\"Spearman correlation between pace and PPP: \")\n",
    "print(df[\"PPP\"].corr(df[\"PACE\"], method=\"spearman\"))"
   ]
  },
  {
   "cell_type": "code",
   "execution_count": 11,
   "id": "8e3e28ea-3eee-4a05-995f-1289f69d00c7",
   "metadata": {},
   "outputs": [
    {
     "name": "stdout",
     "output_type": "stream",
     "text": [
      "Partial correlation of pace with offensive efficiency, adjusting for PPP: \n",
      "           n         r           CI95%         p-val\n",
      "pearson  686 -0.299055  [-0.37, -0.23]  1.280696e-15\n"
     ]
    }
   ],
   "source": [
    "#Let's try a partial regression seeing the effect of pace on offensive rating, adjusting for PPP\n",
    "print(\"Partial correlation of pace with offensive efficiency, adjusting for PPP: \")\n",
    "print(pg.partial_corr(data=df, x=\"PACE\", y=\"OFF_RATING\", covar=\"PPP\"))"
   ]
  },
  {
   "cell_type": "code",
   "execution_count": 12,
   "id": "68cd2344-6b09-41d0-b377-9df293de7257",
   "metadata": {},
   "outputs": [
    {
     "data": {
      "text/plain": [
       "\"\\nThe p-value is less than .05, suggesting that pace does have a statistically significant effect outside of PPP.\\nLet's try multiple regression as well. \\n\""
      ]
     },
     "execution_count": 12,
     "metadata": {},
     "output_type": "execute_result"
    }
   ],
   "source": [
    "\"\"\"\n",
    "The p-value is less than .05, suggesting that pace does have a statistically significant effect outside of PPP.\n",
    "Let's try multiple regression as well. \n",
    "\"\"\""
   ]
  },
  {
   "cell_type": "code",
   "execution_count": 13,
   "id": "9198e3b9-049e-48c8-b223-9f118c5673e1",
   "metadata": {},
   "outputs": [
    {
     "name": "stdout",
     "output_type": "stream",
     "text": [
      "                            OLS Regression Results                            \n",
      "==============================================================================\n",
      "Dep. Variable:             OFF_RATING   R-squared:                       0.991\n",
      "Model:                            OLS   Adj. R-squared:                  0.991\n",
      "Method:                 Least Squares   F-statistic:                 3.793e+04\n",
      "Date:                Sat, 30 Dec 2023   Prob (F-statistic):               0.00\n",
      "Time:                        19:42:52   Log-Likelihood:                -381.90\n",
      "No. Observations:                 686   AIC:                             769.8\n",
      "Df Residuals:                     683   BIC:                             783.4\n",
      "Df Model:                           2                                         \n",
      "Covariance Type:            nonrobust                                         \n",
      "==============================================================================\n",
      "                 coef    std err          t      P>|t|      [0.025      0.975]\n",
      "------------------------------------------------------------------------------\n",
      "const          1.6756      0.440      3.812      0.000       0.813       2.539\n",
      "PACE          -0.0400      0.005     -8.190      0.000      -0.050      -0.030\n",
      "PPP          100.4880      0.429    234.000      0.000      99.645     101.331\n",
      "==============================================================================\n",
      "Omnibus:                        3.969   Durbin-Watson:                   1.939\n",
      "Prob(Omnibus):                  0.137   Jarque-Bera (JB):                4.024\n",
      "Skew:                           0.184   Prob(JB):                        0.134\n",
      "Kurtosis:                       2.930   Cond. No.                     3.13e+03\n",
      "==============================================================================\n",
      "\n",
      "Notes:\n",
      "[1] Standard Errors assume that the covariance matrix of the errors is correctly specified.\n",
      "[2] The condition number is large, 3.13e+03. This might indicate that there are\n",
      "strong multicollinearity or other numerical problems.\n"
     ]
    }
   ],
   "source": [
    "#Multiple regression\n",
    "X = df[[\"PACE\", \"PPP\"]]\n",
    "X = sm.add_constant(X)\n",
    "model = sm.OLS(df[\"OFF_RATING\"], X).fit()\n",
    "print(model.summary())"
   ]
  },
  {
   "cell_type": "code",
   "execution_count": 14,
   "id": "effa3e89-fca0-4454-9bb1-6dd515f2b590",
   "metadata": {},
   "outputs": [
    {
     "name": "stdout",
     "output_type": "stream",
     "text": [
      "Partial correlation of pace with number of wins, adjusting for PPP: \n",
      "           n         r           CI95%         p-val\n",
      "pearson  686 -0.517856  [-0.57, -0.46]  2.909752e-48\n"
     ]
    }
   ],
   "source": [
    "#Now let's run the partial and multiple regressions again, checking correlation with wins. \n",
    "print(\"Partial correlation of pace with number of wins, adjusting for PPP: \")\n",
    "print(pg.partial_corr(data=df, x=\"PACE\", y=\"WINS\", covar=\"PPP\"))"
   ]
  },
  {
   "cell_type": "code",
   "execution_count": 15,
   "id": "9a7a9912-d423-46e0-a96d-8e5cf6f9f115",
   "metadata": {},
   "outputs": [
    {
     "name": "stdout",
     "output_type": "stream",
     "text": [
      "                            OLS Regression Results                            \n",
      "==============================================================================\n",
      "Dep. Variable:                   WINS   R-squared:                       0.459\n",
      "Model:                            OLS   Adj. R-squared:                  0.457\n",
      "Method:                 Least Squares   F-statistic:                     289.4\n",
      "Date:                Sat, 30 Dec 2023   Prob (F-statistic):           9.50e-92\n",
      "Time:                        19:42:52   Log-Likelihood:                -2476.7\n",
      "No. Observations:                 686   AIC:                             4959.\n",
      "Df Residuals:                     683   BIC:                             4973.\n",
      "Df Model:                           2                                         \n",
      "Covariance Type:            nonrobust                                         \n",
      "==============================================================================\n",
      "                 coef    std err          t      P>|t|      [0.025      0.975]\n",
      "------------------------------------------------------------------------------\n",
      "const        -32.6298      9.315     -3.503      0.000     -50.919     -14.340\n",
      "PACE          -1.6378      0.104    -15.820      0.000      -1.841      -1.435\n",
      "PPP          217.0005      9.100     23.846      0.000     199.133     234.868\n",
      "==============================================================================\n",
      "Omnibus:                        6.110   Durbin-Watson:                   1.494\n",
      "Prob(Omnibus):                  0.047   Jarque-Bera (JB):                4.902\n",
      "Skew:                           0.110   Prob(JB):                       0.0862\n",
      "Kurtosis:                       2.649   Cond. No.                     3.13e+03\n",
      "==============================================================================\n",
      "\n",
      "Notes:\n",
      "[1] Standard Errors assume that the covariance matrix of the errors is correctly specified.\n",
      "[2] The condition number is large, 3.13e+03. This might indicate that there are\n",
      "strong multicollinearity or other numerical problems.\n"
     ]
    }
   ],
   "source": [
    "#Multiple regression:\n",
    "X = df[[\"PACE\", \"PPP\"]]\n",
    "X = sm.add_constant(X)\n",
    "model = sm.OLS(df[\"WINS\"], X).fit()\n",
    "print(model.summary())"
   ]
  }
 ],
 "metadata": {
  "kernelspec": {
   "display_name": "Python 3 (ipykernel)",
   "language": "python",
   "name": "python3"
  },
  "language_info": {
   "codemirror_mode": {
    "name": "ipython",
    "version": 3
   },
   "file_extension": ".py",
   "mimetype": "text/x-python",
   "name": "python",
   "nbconvert_exporter": "python",
   "pygments_lexer": "ipython3",
   "version": "3.11.4"
  }
 },
 "nbformat": 4,
 "nbformat_minor": 5
}
