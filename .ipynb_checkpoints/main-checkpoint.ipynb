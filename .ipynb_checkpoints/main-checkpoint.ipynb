{
 "cells": [
  {
   "cell_type": "code",
   "execution_count": 6,
   "id": "bbcba1d5-af65-49ce-8ed9-b2c36609da39",
   "metadata": {},
   "outputs": [],
   "source": [
    "from nba_api.stats.endpoints import teamestimatedmetrics, leaguedashteamstats\n",
    "from nba_api.stats.static import teams\n",
    "import pandas as pd\n",
    "import pingouin as pg\n",
    "import statsmodels.api as sm\n",
    "from statsmodels.stats.outliers_influence import variance_inflation_factor\n",
    "from statsmodels.graphics.regressionplots import plot_partregress_grid\n",
    "import matplotlib.pyplot as plt\n",
    "import numpy as np"
   ]
  },
  {
   "cell_type": "code",
   "execution_count": 3,
   "id": "a15250f2-e27d-47d5-8d54-428b0ac3d998",
   "metadata": {},
   "outputs": [
    {
     "data": {
      "text/plain": [
       "'\\nThis is a short analysis to determine the correlation of two factors with a teams offensive rating:\\n(1) per-possession efficiency\\n(2) number of possessions (i.e. pace)\\n\\n'"
      ]
     },
     "execution_count": 3,
     "metadata": {},
     "output_type": "execute_result"
    }
   ],
   "source": [
    "\"\"\"\n",
    "This is a short analysis to determine the correlation of two factors with a teams offensive rating:\n",
    "(1) per-possession efficiency\n",
    "(2) number of possessions (i.e. pace)\n",
    "\n",
    "\"\"\""
   ]
  },
  {
   "cell_type": "code",
   "execution_count": 2,
   "id": "1024a7d3",
   "metadata": {},
   "outputs": [],
   "source": [
    "def calculate_z_score(data, point):\n",
    "    mean = np.mean(data)\n",
    "    std_dev = np.std(data)\n",
    "    z_score = (point - mean) / std_dev\n",
    "    return z_score"
   ]
  },
  {
   "cell_type": "code",
   "execution_count": 3,
   "id": "a512433a-975e-41c8-ac36-910c89f6d4f6",
   "metadata": {},
   "outputs": [],
   "source": [
    "seasons = [\n",
    "    '2000-01',\n",
    "    '2001-02',\n",
    "    '2002-03',\n",
    "    '2003-04',\n",
    "    '2004-05',\n",
    "    '2005-06',\n",
    "    '2006-07',\n",
    "    '2007-08',\n",
    "    '2008-09',\n",
    "    '2009-10',\n",
    "    '2010-11',\n",
    "    '2011-12',\n",
    "    '2012-13',\n",
    "    '2013-14',\n",
    "    '2014-15',\n",
    "    '2015-16',\n",
    "    '2016-17',\n",
    "    '2017-18',\n",
    "    '2018-19',\n",
    "    '2019-20',\n",
    "    '2020-21',\n",
    "    '2021-22',\n",
    "    '2022-23'\n",
    "]"
   ]
  },
  {
   "cell_type": "code",
   "execution_count": 4,
   "id": "7cf027d6-8fae-42c9-abe0-a285f49b4473",
   "metadata": {},
   "outputs": [],
   "source": [
    "#Get list of all teams\n",
    "all_teams = teams.get_teams()\n",
    "team_ids = {}\n",
    "for team in all_teams:\n",
    "    team_ids[team['id']] = team['abbreviation']"
   ]
  },
  {
   "cell_type": "code",
   "execution_count": 7,
   "id": "a3678ab1-5457-43aa-a5b2-daebc2af2058",
   "metadata": {},
   "outputs": [
    {
     "name": "stdout",
     "output_type": "stream",
     "text": [
      "Collecting 2000-01 data...\n",
      "Collecting 2001-02 data...\n",
      "Collecting 2002-03 data...\n",
      "Collecting 2003-04 data...\n",
      "Collecting 2004-05 data...\n",
      "Collecting 2005-06 data...\n",
      "Collecting 2006-07 data...\n",
      "Collecting 2007-08 data...\n",
      "Collecting 2008-09 data...\n",
      "Collecting 2009-10 data...\n",
      "Collecting 2010-11 data...\n",
      "Collecting 2011-12 data...\n",
      "Collecting 2012-13 data...\n",
      "Collecting 2013-14 data...\n",
      "Collecting 2014-15 data...\n",
      "Collecting 2015-16 data...\n",
      "Collecting 2016-17 data...\n",
      "Collecting 2017-18 data...\n",
      "Collecting 2018-19 data...\n",
      "Collecting 2019-20 data...\n",
      "Collecting 2020-21 data...\n",
      "Collecting 2021-22 data...\n",
      "Collecting 2022-23 data...\n"
     ]
    }
   ],
   "source": [
    "#Get offensive ratings, pace, points-per-possession\n",
    "offensive_ratings = []\n",
    "paces = []\n",
    "pts_per_poss = []\n",
    "wins = []\n",
    "for season in seasons:\n",
    "    print(\"Collecting \" + season + \" data...\")\n",
    "    results = teamestimatedmetrics.TeamEstimatedMetrics(league_id='00', season=season).get_data_frames()[0]\n",
    "    possession_results = leaguedashteamstats.LeagueDashTeamStats(season=season, per_mode_detailed=\"PerPossession\")\n",
    "    possession_results = possession_results.get_data_frames()[0]\n",
    "    season_offensive_ratings = results[\"E_OFF_RATING\"]\n",
    "    for id in team_ids.keys():\n",
    "        team_off_rating = results[results['TEAM_ID'] == id]['E_OFF_RATING']\n",
    "        offensive_ratings.append(calculate_z_score(season_offensive_ratings, team_off_rating))\n",
    "        paces.append(results[results['TEAM_ID'] == id]['E_PACE'])\n",
    "        pts_per_poss.append(possession_results[possession_results['TEAM_ID'] == id]['PTS'])\n",
    "        wins.append(possession_results[possession_results['TEAM_ID'] == id]['W'])"
   ]
  },
  {
   "cell_type": "code",
   "execution_count": 8,
   "id": "001ef132-ce8c-4072-9392-23c35239caac",
   "metadata": {},
   "outputs": [],
   "source": [
    "for i in range(len(offensive_ratings)):\n",
    "    if offensive_ratings[i].empty:\n",
    "        offensive_ratings[i] = None\n",
    "    else:\n",
    "        offensive_ratings[i] = offensive_ratings[i].tolist()[0]\n",
    "\n",
    "for i in range(len(paces)):\n",
    "    if paces[i].empty:\n",
    "        paces[i] = None\n",
    "    else:\n",
    "        paces[i] = paces[i].tolist()[0]\n",
    "\n",
    "for i in range(len(pts_per_poss)):\n",
    "    if pts_per_poss[i].empty:\n",
    "        pts_per_poss[i] = None\n",
    "    else:\n",
    "        pts_per_poss[i] = pts_per_poss[i].tolist()[0]\n",
    "\n",
    "for i in range(len(wins)):\n",
    "    if wins[i].empty:\n",
    "        wins[i] = None\n",
    "    else:\n",
    "        wins[i] = wins[i].tolist()[0]"
   ]
  },
  {
   "cell_type": "code",
   "execution_count": 9,
   "id": "287c68d3-1523-483d-8912-353080e0a28b",
   "metadata": {},
   "outputs": [
    {
     "name": "stdout",
     "output_type": "stream",
     "text": [
      "Linear correlation between pace and offensive rating: \n",
      "0.0495643660611569\n",
      "Linear correlation between PPP and offensive rating: \n",
      "0.6890425000459758\n"
     ]
    }
   ],
   "source": [
    "#Calculate Pearson coefficient for linear correlation\n",
    "df = pd.DataFrame({\"OFF_RATING\": offensive_ratings, \"PACE\": paces, \"PPP\": pts_per_poss, \"WINS\": wins}).dropna()\n",
    "print(\"Linear correlation between pace and offensive rating: \")\n",
    "print(df[\"OFF_RATING\"].corr(df[\"PACE\"]))\n",
    "print(\"Linear correlation between PPP and offensive rating: \")\n",
    "print(df[\"OFF_RATING\"].corr(df[\"PPP\"]))"
   ]
  },
  {
   "cell_type": "code",
   "execution_count": 9,
   "id": "e9936a6b",
   "metadata": {},
   "outputs": [],
   "source": [
    "df.to_csv(\"data.csv\")"
   ]
  },
  {
   "cell_type": "code",
   "execution_count": 8,
   "id": "bd0f4853-1a37-4478-9aaf-17acc01a8291",
   "metadata": {},
   "outputs": [
    {
     "name": "stdout",
     "output_type": "stream",
     "text": [
      "Linear correlation between pace and PPP: \n",
      "0.5524181747835893\n",
      "Spearman correlation between pace and PPP: \n",
      "0.5436513179675263\n"
     ]
    }
   ],
   "source": [
    "#Let's check to see if pace and PPP are correlated\n",
    "print(\"Linear correlation between pace and PPP: \")\n",
    "print(df[\"PPP\"].corr(df[\"PACE\"]))\n",
    "print(\"Spearman correlation between pace and PPP: \")\n",
    "print(df[\"PPP\"].corr(df[\"PACE\"], method=\"spearman\"))"
   ]
  },
  {
   "cell_type": "code",
   "execution_count": 11,
   "id": "eba7d5cd-3284-43c6-be6e-c7288c4658e0",
   "metadata": {},
   "outputs": [
    {
     "name": "stdout",
     "output_type": "stream",
     "text": [
      "  Feature         VIF\n",
      "0   const  740.282200\n",
      "1     PPP    1.439192\n",
      "2    PACE    1.439192\n"
     ]
    }
   ],
   "source": [
    "#Looks like they are. To check how bad the multicollinearity is, let's calculate the variance inflation factor. \n",
    "X = df[[\"PPP\", \"PACE\"]]\n",
    "X = sm.add_constant(X)\n",
    "\n",
    "vif_data = pd.DataFrame()\n",
    "vif_data[\"Feature\"] = X.columns\n",
    "vif_data[\"VIF\"] = [variance_inflation_factor(X.values, i) for i in range(X.shape[1])]\n",
    "print(vif_data)"
   ]
  },
  {
   "cell_type": "code",
   "execution_count": 15,
   "id": "9032d69f-295c-4bf9-80d9-104a70993a24",
   "metadata": {},
   "outputs": [
    {
     "name": "stderr",
     "output_type": "stream",
     "text": [
      "/Users/nehalchigurupati/miniconda3/lib/python3.11/site-packages/statsmodels/graphics/regressionplots.py:430: FutureWarning: Series.__getitem__ treating keys as positions is deprecated. In a future version, integer keys will always be treated as labels (consistent with DataFrame behavior). To access a value by position, use `ser.iloc[pos]`\n",
      "  fig = abline_plot(0, fitted_line.params[0], color='k', ax=ax)\n",
      "/Users/nehalchigurupati/miniconda3/lib/python3.11/site-packages/statsmodels/graphics/regressionplots.py:430: FutureWarning: Series.__getitem__ treating keys as positions is deprecated. In a future version, integer keys will always be treated as labels (consistent with DataFrame behavior). To access a value by position, use `ser.iloc[pos]`\n",
      "  fig = abline_plot(0, fitted_line.params[0], color='k', ax=ax)\n",
      "/Users/nehalchigurupati/miniconda3/lib/python3.11/site-packages/statsmodels/graphics/regressionplots.py:430: FutureWarning: Series.__getitem__ treating keys as positions is deprecated. In a future version, integer keys will always be treated as labels (consistent with DataFrame behavior). To access a value by position, use `ser.iloc[pos]`\n",
      "  fig = abline_plot(0, fitted_line.params[0], color='k', ax=ax)\n"
     ]
    },
    {
     "data": {
      "image/png": "[encoded data removed]",
      "text/plain": [
       "<Figure size 576x432 with 3 Axes>"
      ]
     },
     "metadata": {
      "needs_background": "light"
     },
     "output_type": "display_data"
    }
   ],
   "source": [
    "#Create partial regression plot\n",
    "model = sm.OLS(df['WINS'], sm.add_constant(df[['PPP', 'PACE']])).fit()\n",
    "fig = plt.figure(figsize=(8, 6))\n",
    "plot_partregress_grid(model, fig=fig)\n",
    "plt.show()"
   ]
  },
  {
   "cell_type": "code",
   "execution_count": null,
   "id": "46e1e409",
   "metadata": {},
   "outputs": [],
   "source": []
  }
 ],
 "metadata": {
  "kernelspec": {
   "display_name": "Python 3",
   "language": "python",
   "name": "python3"
  },
  "language_info": {
   "codemirror_mode": {
    "name": "ipython",
    "version": 3
   },
   "file_extension": ".py",
   "mimetype": "text/x-python",
   "name": "python",
   "nbconvert_exporter": "python",
   "pygments_lexer": "ipython3",
   "version": "3.11.4"
  }
 },
 "nbformat": 4,
 "nbformat_minor": 5
}
