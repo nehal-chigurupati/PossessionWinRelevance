{
 "cells": [
  {
   "cell_type": "code",
   "execution_count": 10,
   "id": "bbcba1d5-af65-49ce-8ed9-b2c36609da39",
   "metadata": {},
   "outputs": [],
   "source": [
    "from nba_api.stats.endpoints import teamestimatedmetrics, leaguedashteamstats\n",
    "from nba_api.stats.static import teams\n",
    "import pandas as pd"
   ]
  },
  {
   "cell_type": "code",
   "execution_count": 2,
   "id": "a15250f2-e27d-47d5-8d54-428b0ac3d998",
   "metadata": {},
   "outputs": [
    {
     "data": {
      "text/plain": [
       "'\\nThis is a short analysis to determine the correlation of two factors with a teams offensive rating:\\n(1) per-possession efficiency\\n(2) number of possessions (i.e. pace)\\n\\n'"
      ]
     },
     "execution_count": 2,
     "metadata": {},
     "output_type": "execute_result"
    }
   ],
   "source": [
    "\"\"\"\n",
    "This is a short analysis to determine the correlation of two factors with a teams offensive rating:\n",
    "(1) per-possession efficiency\n",
    "(2) number of possessions (i.e. pace)\n",
    "\n",
    "\"\"\""
   ]
  },
  {
   "cell_type": "code",
   "execution_count": 3,
   "id": "a512433a-975e-41c8-ac36-910c89f6d4f6",
   "metadata": {},
   "outputs": [],
   "source": [
    "seasons = [\n",
    "    '2000-01',\n",
    "    '2001-02',\n",
    "    '2002-03',\n",
    "    '2003-04',\n",
    "    '2004-05',\n",
    "    '2005-06',\n",
    "    '2006-07',\n",
    "    '2007-08',\n",
    "    '2008-09',\n",
    "    '2009-10',\n",
    "    '2010-11',\n",
    "    '2011-12',\n",
    "    '2012-13',\n",
    "    '2013-14',\n",
    "    '2014-15',\n",
    "    '2015-16',\n",
    "    '2016-17',\n",
    "    '2017-18',\n",
    "    '2018-19',\n",
    "    '2019-20',\n",
    "    '2020-21',\n",
    "    '2021-22',\n",
    "    '2022-23'\n",
    "]"
   ]
  },
  {
   "cell_type": "code",
   "execution_count": 4,
   "id": "7cf027d6-8fae-42c9-abe0-a285f49b4473",
   "metadata": {},
   "outputs": [],
   "source": [
    "#Get list of all teams\n",
    "all_teams = teams.get_teams()\n",
    "team_ids = {}\n",
    "for team in all_teams:\n",
    "    team_ids[team['id']] = team['abbreviation']"
   ]
  },
  {
   "cell_type": "code",
   "execution_count": 7,
   "id": "a3678ab1-5457-43aa-a5b2-daebc2af2058",
   "metadata": {},
   "outputs": [
    {
     "name": "stdout",
     "output_type": "stream",
     "text": [
      "Collecting 2000-01 data...\n",
      "Collecting 2001-02 data...\n",
      "Collecting 2002-03 data...\n",
      "Collecting 2003-04 data...\n",
      "Collecting 2004-05 data...\n",
      "Collecting 2005-06 data...\n",
      "Collecting 2006-07 data...\n",
      "Collecting 2007-08 data...\n",
      "Collecting 2008-09 data...\n",
      "Collecting 2009-10 data...\n",
      "Collecting 2010-11 data...\n",
      "Collecting 2011-12 data...\n",
      "Collecting 2012-13 data...\n",
      "Collecting 2013-14 data...\n",
      "Collecting 2014-15 data...\n",
      "Collecting 2015-16 data...\n",
      "Collecting 2016-17 data...\n",
      "Collecting 2017-18 data...\n",
      "Collecting 2018-19 data...\n",
      "Collecting 2019-20 data...\n",
      "Collecting 2020-21 data...\n",
      "Collecting 2021-22 data...\n",
      "Collecting 2022-23 data...\n"
     ]
    }
   ],
   "source": [
    "#Get offensive ratings, pace, points-per-possession\n",
    "offensive_ratings = []\n",
    "paces = []\n",
    "pts_per_poss = []\n",
    "for season in seasons:\n",
    "    print(\"Collecting \" + season + \" data...\")\n",
    "    results = teamestimatedmetrics.TeamEstimatedMetrics(league_id='00', season=season).get_data_frames()[0]\n",
    "    possession_results = leaguedashteamstats.LeagueDashTeamStats(season=season, team_id_nullable=id, per_mode_detailed=\"PerPossession\")\n",
    "    possession_results = possession_results.get_data_frames()[0]\n",
    "    for id in team_ids.keys():\n",
    "        offensive_ratings.append(results[results['TEAM_ID'] == id]['E_OFF_RATING'])\n",
    "        paces.append(results[results['TEAM_ID'] == id]['E_PACE'])\n",
    "        pts_per_poss.append(possession_results[possession_results['TEAM_ID'] == id]['PTS'])"
   ]
  },
  {
   "cell_type": "code",
   "execution_count": 8,
   "id": "001ef132-ce8c-4072-9392-23c35239caac",
   "metadata": {},
   "outputs": [],
   "source": [
    "for i in range(len(offensive_ratings)):\n",
    "    if offensive_ratings[i].empty:\n",
    "        offensive_ratings[i] = None\n",
    "    else:\n",
    "        offensive_ratings[i] = offensive_ratings[i].tolist()[0]\n",
    "\n",
    "for i in range(len(paces)):\n",
    "    if paces[i].empty:\n",
    "        paces[i] = None\n",
    "    else:\n",
    "        paces[i] = paces[i].tolist()[0]\n",
    "\n",
    "for i in range(len(pts_per_poss)):\n",
    "    if pts_per_poss[i].empty:\n",
    "        pts_per_poss[i] = None\n",
    "    else:\n",
    "        pts_per_poss[i] = pts_per_poss[i].tolist()[0]"
   ]
  },
  {
   "cell_type": "code",
   "execution_count": 14,
   "id": "287c68d3-1523-483d-8912-353080e0a28b",
   "metadata": {},
   "outputs": [
    {
     "name": "stdout",
     "output_type": "stream",
     "text": [
      "                                                OFF_RATING  \\\n",
      "2000-01  [95.6, 99.0, 97.4, None, 94.3, 104.5, 101.1, 9...   \n",
      "2001-02  [99.1, 101.1, 101.7, None, 95.5, 109.5, 97.8, ...   \n",
      "2002-03  [99.6, 98.9, 93.5, 100.6, 97.3, 108.2, 88.9, 1...   \n",
      "2003-04  [98.2, 99.9, 98.4, 99.1, 93.9, 109.6, 100.8, 1...   \n",
      "2004-05  [97.9, 104.8, 103.2, 95.9, 98.5, 107.5, 103.4,...   \n",
      "2005-06  [103.8, 102.5, 105.2, 100.6, 101.3, 108.7, 102...   \n",
      "2006-07  [100.1, 100.2, 102.6, 101.9, 102.5, 108.5, 104...   \n",
      "2007-08  [104.0, 107.6, 103.2, 109.0, 101.0, 108.6, 107...   \n",
      "2008-09  [106.6, 108.1, 109.7, 106.2, 105.1, 108.1, 107...   \n",
      "2009-10  [108.9, 105.4, 108.8, 105.1, 100.8, 107.1, 108...   \n",
      "2010-11  [103.2, 104.0, 99.5, 103.8, 105.5, 107.6, 109....   \n",
      "2011-12  [102.4, 98.9, 98.1, 98.3, 104.5, 101.0, 106.5,...   \n",
      "2012-13  [102.7, 101.1, 100.8, 102.7, 100.4, 103.6, 107...   \n",
      "2013-14  [103.4, 99.7, 101.3, 104.7, 99.7, 109.0, 103.3...   \n",
      "2014-15  [106.2, 101.7, 107.7, 105.4, 104.7, 107.2, 101...   \n",
      "2015-16  [103.0, 103.9, 108.1, 103.2, 102.1, 104.8, 102...   \n",
      "2016-17  [102.3, 108.6, 110.9, 103.3, 104.6, 103.7, 110...   \n",
      "2017-18  [102.4, 105.3, 110.6, 107.7, 101.3, 104.1, 109...   \n",
      "2018-19  [105.5, 110.1, 105.0, 108.6, 102.5, 106.6, 109...   \n",
      "2019-20  [104.3, 110.4, 104.4, 108.0, 104.1, 113.7, 110...   \n",
      "2020-21  [113.0, 111.0, 103.1, 110.8, 108.7, 112.9, 114...   \n",
      "2021-22  [114.0, 112.1, 109.4, 109.0, 111.0, 110.5, 111...   \n",
      "2022-23  [113.9, 115.7, 113.7, 111.8, 111.7, 114.3, 115...   \n",
      "\n",
      "                                                      PACE  \\\n",
      "2000-01  [94.5, 95.0, 93.9, None, 91.7, 95.5, 95.3, 96....   \n",
      "2001-02  [94.4, 95.0, 93.0, None, 93.0, 95.3, 93.3, 97....   \n",
      "2002-03  [93.7, 93.4, 96.9, 92.3, 96.1, 95.0, 93.8, 97....   \n",
      "2003-04  [93.5, 95.8, 93.6, 91.8, 94.8, 95.7, 96.1, 92....   \n",
      "2004-05  [93.8, 95.9, 92.6, 90.4, 95.1, 95.3, 96.1, 95....   \n",
      "2005-06  [93.0, 94.7, 92.2, 91.3, 95.7, 90.3, 96.6, 95....   \n",
      "2006-07  [92.5, 94.5, 93.2, 92.6, 96.0, 91.9, 100.2, 10...   \n",
      "2007-08  [93.6, 93.3, 92.5, 92.1, 95.7, 92.5, 102.3, 10...   \n",
      "2008-09  [92.0, 92.7, 91.2, 90.0, 95.8, 93.9, 97.0, 101...   \n",
      "2009-10  [92.5, 93.8, 93.5, 94.8, 95.5, 94.8, 97.3, 102...   \n",
      "2010-11  [91.6, 92.5, 95.5, 90.9, 92.9, 93.4, 97.9, 97....   \n",
      "2011-12  [92.5, 92.6, 94.0, 90.7, 91.8, 93.6, 96.7, 94....   \n",
      "2012-13  [94.7, 94.0, 94.9, 90.9, 92.0, 96.2, 97.8, 96....   \n",
      "2013-14  [96.9, 95.9, 95.7, 94.5, 92.7, 95.7, 100.7, 98...   \n",
      "2014-15  [96.2, 98.4, 94.8, 93.7, 95.4, 97.4, 98.7, 100...   \n",
      "2015-16  [99.4, 101.1, 95.5, 98.9, 98.2, 96.4, 98.2, 10...   \n",
      "2016-17  [99.8, 99.3, 98.4, 100.1, 97.7, 94.2, 100.7, 1...   \n",
      "2017-18  [100.6, 98.2, 100.1, 102.7, 100.3, 97.5, 99.1,...   \n",
      "2018-19  [106.4, 102.0, 98.9, 105.6, 101.1, 101.4, 100....   \n",
      "2019-20  [105.6, 101.9, 100.9, 106.3, 101.9, 101.7, 99....   \n",
      "2020-21  [99.9, 100.7, 99.6, 102.3, 101.1, 99.5, 99.3, ...   \n",
      "2021-22  [100.0, 99.0, 98.4, 99.7, 100.4, 97.5, 99.9, 1...   \n",
      "2022-23  [103.1, 100.6, 98.0, 101.4, 100.6, 98.8, 100.3...   \n",
      "\n",
      "                                                       PPP  \n",
      "2000-01  [0.969, None, None, None, None, None, None, No...  \n",
      "2001-02  [None, None, None, None, None, None, None, Non...  \n",
      "2002-03  [None, None, None, None, None, None, None, Non...  \n",
      "2003-04  [None, None, None, None, None, None, None, Non...  \n",
      "2004-05  [None, None, None, None, None, None, None, Non...  \n",
      "2005-06  [None, None, None, None, None, None, None, Non...  \n",
      "2006-07  [None, None, None, None, None, None, None, Non...  \n",
      "2007-08  [None, None, None, None, None, None, None, Non...  \n",
      "2008-09  [None, None, None, None, None, None, None, Non...  \n",
      "2009-10  [None, None, None, None, None, None, None, Non...  \n",
      "2010-11  [None, None, None, None, None, None, None, Non...  \n",
      "2011-12  [None, None, None, None, None, None, None, Non...  \n",
      "2012-13  [None, None, None, None, None, None, None, Non...  \n",
      "2013-14  [None, None, None, None, None, None, None, Non...  \n",
      "2014-15  [None, None, None, None, None, None, None, Non...  \n",
      "2015-16  [None, None, None, None, None, None, None, Non...  \n",
      "2016-17  [None, None, None, None, None, None, None, Non...  \n",
      "2017-18  [None, None, None, None, None, None, None, Non...  \n",
      "2018-19  [None, None, None, None, None, None, None, Non...  \n",
      "2019-20  [None, None, None, None, None, None, None, Non...  \n",
      "2020-21  [None, None, None, None, None, None, None, Non...  \n",
      "2021-22  [None, None, None, None, None, None, None, Non...  \n",
      "2022-23  [None, None, None, None, None, None, None, Non...  \n"
     ]
    }
   ],
   "source": [
    "#Calculate Pearson coefficient for linear correlation\n",
    "df = pd.DataFrame({\"OFF_RATING\": offensive_ratings, \"PACE\": paces, \"PPP\": pts_per_poss})\n",
    "print(df)"
   ]
  },
  {
   "cell_type": "code",
   "execution_count": null,
   "id": "0be8dcb1-40d9-46a8-b3de-46dfd43ae993",
   "metadata": {},
   "outputs": [],
   "source": []
  }
 ],
 "metadata": {
  "kernelspec": {
   "display_name": "Python 3 (ipykernel)",
   "language": "python",
   "name": "python3"
  },
  "language_info": {
   "codemirror_mode": {
    "name": "ipython",
    "version": 3
   },
   "file_extension": ".py",
   "mimetype": "text/x-python",
   "name": "python",
   "nbconvert_exporter": "python",
   "pygments_lexer": "ipython3",
   "version": "3.11.4"
  }
 },
 "nbformat": 4,
 "nbformat_minor": 5
}
